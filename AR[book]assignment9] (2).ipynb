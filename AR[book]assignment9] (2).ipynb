{
 "cells": [
  {
   "cell_type": "code",
   "execution_count": 1,
   "id": "8cd0b254",
   "metadata": {
    "ExecuteTime": {
     "end_time": "2021-11-30T17:26:35.315322Z",
     "start_time": "2021-11-30T17:26:11.975613Z"
    }
   },
   "outputs": [
    {
     "name": "stdout",
     "output_type": "stream",
     "text": [
      "Requirement already satisfied: mlxtend in c:\\users\\bhavya t.n\\anaconda3\\lib\\site-packages (0.19.0)\n",
      "Requirement already satisfied: scipy>=1.2.1 in c:\\users\\bhavya t.n\\anaconda3\\lib\\site-packages (from mlxtend) (1.7.1)\n",
      "Requirement already satisfied: scikit-learn>=0.20.3 in c:\\users\\bhavya t.n\\anaconda3\\lib\\site-packages (from mlxtend) (0.24.2)\n",
      "Requirement already satisfied: numpy>=1.16.2 in c:\\users\\bhavya t.n\\anaconda3\\lib\\site-packages (from mlxtend) (1.20.3)\n",
      "Requirement already satisfied: matplotlib>=3.0.0 in c:\\users\\bhavya t.n\\anaconda3\\lib\\site-packages (from mlxtend) (3.4.3)\n",
      "Requirement already satisfied: joblib>=0.13.2 in c:\\users\\bhavya t.n\\anaconda3\\lib\\site-packages (from mlxtend) (1.0.1)\n",
      "Requirement already satisfied: setuptools in c:\\users\\bhavya t.n\\anaconda3\\lib\\site-packages (from mlxtend) (58.0.4)\n",
      "Requirement already satisfied: pandas>=0.24.2 in c:\\users\\bhavya t.n\\anaconda3\\lib\\site-packages (from mlxtend) (1.3.4)\n",
      "Requirement already satisfied: python-dateutil>=2.7 in c:\\users\\bhavya t.n\\anaconda3\\lib\\site-packages (from matplotlib>=3.0.0->mlxtend) (2.8.2)\n",
      "Requirement already satisfied: pyparsing>=2.2.1 in c:\\users\\bhavya t.n\\anaconda3\\lib\\site-packages (from matplotlib>=3.0.0->mlxtend) (3.0.4)\n",
      "Requirement already satisfied: kiwisolver>=1.0.1 in c:\\users\\bhavya t.n\\anaconda3\\lib\\site-packages (from matplotlib>=3.0.0->mlxtend) (1.3.1)\n",
      "Requirement already satisfied: cycler>=0.10 in c:\\users\\bhavya t.n\\anaconda3\\lib\\site-packages (from matplotlib>=3.0.0->mlxtend) (0.10.0)\n",
      "Requirement already satisfied: pillow>=6.2.0 in c:\\users\\bhavya t.n\\anaconda3\\lib\\site-packages (from matplotlib>=3.0.0->mlxtend) (8.4.0)\n",
      "Requirement already satisfied: six in c:\\users\\bhavya t.n\\anaconda3\\lib\\site-packages (from cycler>=0.10->matplotlib>=3.0.0->mlxtend) (1.16.0)\n",
      "Requirement already satisfied: pytz>=2017.3 in c:\\users\\bhavya t.n\\anaconda3\\lib\\site-packages (from pandas>=0.24.2->mlxtend) (2021.3)\n",
      "Requirement already satisfied: threadpoolctl>=2.0.0 in c:\\users\\bhavya t.n\\anaconda3\\lib\\site-packages (from scikit-learn>=0.20.3->mlxtend) (2.2.0)\n"
     ]
    }
   ],
   "source": [
    "!pip install mlxtend "
   ]
  },
  {
   "cell_type": "code",
   "execution_count": 2,
   "id": "8a56c7b8",
   "metadata": {
    "ExecuteTime": {
     "end_time": "2021-11-30T17:26:49.692638Z",
     "start_time": "2021-11-30T17:26:46.408082Z"
    }
   },
   "outputs": [],
   "source": [
    "import pandas as pd\n",
    "from mlxtend.frequent_patterns import apriori,association_rules\n",
    "from mlxtend.preprocessing import TransactionEncoder"
   ]
  },
  {
   "cell_type": "code",
   "execution_count": 3,
   "id": "323ccf9b",
   "metadata": {
    "ExecuteTime": {
     "end_time": "2021-11-30T17:26:53.597557Z",
     "start_time": "2021-11-30T17:26:53.459673Z"
    }
   },
   "outputs": [
    {
     "data": {
      "text/html": [
       "<div>\n",
       "<style scoped>\n",
       "    .dataframe tbody tr th:only-of-type {\n",
       "        vertical-align: middle;\n",
       "    }\n",
       "\n",
       "    .dataframe tbody tr th {\n",
       "        vertical-align: top;\n",
       "    }\n",
       "\n",
       "    .dataframe thead th {\n",
       "        text-align: right;\n",
       "    }\n",
       "</style>\n",
       "<table border=\"1\" class=\"dataframe\">\n",
       "  <thead>\n",
       "    <tr style=\"text-align: right;\">\n",
       "      <th></th>\n",
       "      <th>ChildBks</th>\n",
       "      <th>YouthBks</th>\n",
       "      <th>CookBks</th>\n",
       "      <th>DoItYBks</th>\n",
       "      <th>RefBks</th>\n",
       "      <th>ArtBks</th>\n",
       "      <th>GeogBks</th>\n",
       "      <th>ItalCook</th>\n",
       "      <th>ItalAtlas</th>\n",
       "      <th>ItalArt</th>\n",
       "      <th>Florence</th>\n",
       "    </tr>\n",
       "  </thead>\n",
       "  <tbody>\n",
       "    <tr>\n",
       "      <th>0</th>\n",
       "      <td>0</td>\n",
       "      <td>1</td>\n",
       "      <td>0</td>\n",
       "      <td>1</td>\n",
       "      <td>0</td>\n",
       "      <td>0</td>\n",
       "      <td>1</td>\n",
       "      <td>0</td>\n",
       "      <td>0</td>\n",
       "      <td>0</td>\n",
       "      <td>0</td>\n",
       "    </tr>\n",
       "    <tr>\n",
       "      <th>1</th>\n",
       "      <td>1</td>\n",
       "      <td>0</td>\n",
       "      <td>0</td>\n",
       "      <td>0</td>\n",
       "      <td>0</td>\n",
       "      <td>0</td>\n",
       "      <td>0</td>\n",
       "      <td>0</td>\n",
       "      <td>0</td>\n",
       "      <td>0</td>\n",
       "      <td>0</td>\n",
       "    </tr>\n",
       "    <tr>\n",
       "      <th>2</th>\n",
       "      <td>0</td>\n",
       "      <td>0</td>\n",
       "      <td>0</td>\n",
       "      <td>0</td>\n",
       "      <td>0</td>\n",
       "      <td>0</td>\n",
       "      <td>0</td>\n",
       "      <td>0</td>\n",
       "      <td>0</td>\n",
       "      <td>0</td>\n",
       "      <td>0</td>\n",
       "    </tr>\n",
       "    <tr>\n",
       "      <th>3</th>\n",
       "      <td>1</td>\n",
       "      <td>1</td>\n",
       "      <td>1</td>\n",
       "      <td>0</td>\n",
       "      <td>1</td>\n",
       "      <td>0</td>\n",
       "      <td>1</td>\n",
       "      <td>0</td>\n",
       "      <td>0</td>\n",
       "      <td>0</td>\n",
       "      <td>0</td>\n",
       "    </tr>\n",
       "    <tr>\n",
       "      <th>4</th>\n",
       "      <td>0</td>\n",
       "      <td>0</td>\n",
       "      <td>1</td>\n",
       "      <td>0</td>\n",
       "      <td>0</td>\n",
       "      <td>0</td>\n",
       "      <td>1</td>\n",
       "      <td>0</td>\n",
       "      <td>0</td>\n",
       "      <td>0</td>\n",
       "      <td>0</td>\n",
       "    </tr>\n",
       "  </tbody>\n",
       "</table>\n",
       "</div>"
      ],
      "text/plain": [
       "   ChildBks  YouthBks  CookBks  DoItYBks  RefBks  ArtBks  GeogBks  ItalCook  \\\n",
       "0         0         1        0         1       0       0        1         0   \n",
       "1         1         0        0         0       0       0        0         0   \n",
       "2         0         0        0         0       0       0        0         0   \n",
       "3         1         1        1         0       1       0        1         0   \n",
       "4         0         0        1         0       0       0        1         0   \n",
       "\n",
       "   ItalAtlas  ItalArt  Florence  \n",
       "0          0        0         0  \n",
       "1          0        0         0  \n",
       "2          0        0         0  \n",
       "3          0        0         0  \n",
       "4          0        0         0  "
      ]
     },
     "execution_count": 3,
     "metadata": {},
     "output_type": "execute_result"
    }
   ],
   "source": [
    "book=pd.read_csv('book.csv')\n",
    "book.head()"
   ]
  },
  {
   "cell_type": "code",
   "execution_count": 4,
   "id": "54e31850",
   "metadata": {
    "ExecuteTime": {
     "end_time": "2021-11-30T17:27:02.494793Z",
     "start_time": "2021-11-30T17:27:02.471855Z"
    }
   },
   "outputs": [
    {
     "data": {
      "text/html": [
       "<div>\n",
       "<style scoped>\n",
       "    .dataframe tbody tr th:only-of-type {\n",
       "        vertical-align: middle;\n",
       "    }\n",
       "\n",
       "    .dataframe tbody tr th {\n",
       "        vertical-align: top;\n",
       "    }\n",
       "\n",
       "    .dataframe thead th {\n",
       "        text-align: right;\n",
       "    }\n",
       "</style>\n",
       "<table border=\"1\" class=\"dataframe\">\n",
       "  <thead>\n",
       "    <tr style=\"text-align: right;\">\n",
       "      <th></th>\n",
       "      <th>ChildBks</th>\n",
       "      <th>YouthBks</th>\n",
       "      <th>CookBks</th>\n",
       "      <th>DoItYBks</th>\n",
       "      <th>RefBks</th>\n",
       "      <th>ArtBks</th>\n",
       "      <th>GeogBks</th>\n",
       "      <th>ItalCook</th>\n",
       "      <th>ItalAtlas</th>\n",
       "      <th>ItalArt</th>\n",
       "      <th>Florence</th>\n",
       "    </tr>\n",
       "  </thead>\n",
       "  <tbody>\n",
       "    <tr>\n",
       "      <th>0</th>\n",
       "      <td>0</td>\n",
       "      <td>1</td>\n",
       "      <td>0</td>\n",
       "      <td>1</td>\n",
       "      <td>0</td>\n",
       "      <td>0</td>\n",
       "      <td>1</td>\n",
       "      <td>0</td>\n",
       "      <td>0</td>\n",
       "      <td>0</td>\n",
       "      <td>0</td>\n",
       "    </tr>\n",
       "    <tr>\n",
       "      <th>1</th>\n",
       "      <td>1</td>\n",
       "      <td>0</td>\n",
       "      <td>0</td>\n",
       "      <td>0</td>\n",
       "      <td>0</td>\n",
       "      <td>0</td>\n",
       "      <td>0</td>\n",
       "      <td>0</td>\n",
       "      <td>0</td>\n",
       "      <td>0</td>\n",
       "      <td>0</td>\n",
       "    </tr>\n",
       "    <tr>\n",
       "      <th>2</th>\n",
       "      <td>0</td>\n",
       "      <td>0</td>\n",
       "      <td>0</td>\n",
       "      <td>0</td>\n",
       "      <td>0</td>\n",
       "      <td>0</td>\n",
       "      <td>0</td>\n",
       "      <td>0</td>\n",
       "      <td>0</td>\n",
       "      <td>0</td>\n",
       "      <td>0</td>\n",
       "    </tr>\n",
       "    <tr>\n",
       "      <th>3</th>\n",
       "      <td>1</td>\n",
       "      <td>1</td>\n",
       "      <td>1</td>\n",
       "      <td>0</td>\n",
       "      <td>1</td>\n",
       "      <td>0</td>\n",
       "      <td>1</td>\n",
       "      <td>0</td>\n",
       "      <td>0</td>\n",
       "      <td>0</td>\n",
       "      <td>0</td>\n",
       "    </tr>\n",
       "    <tr>\n",
       "      <th>4</th>\n",
       "      <td>0</td>\n",
       "      <td>0</td>\n",
       "      <td>1</td>\n",
       "      <td>0</td>\n",
       "      <td>0</td>\n",
       "      <td>0</td>\n",
       "      <td>1</td>\n",
       "      <td>0</td>\n",
       "      <td>0</td>\n",
       "      <td>0</td>\n",
       "      <td>0</td>\n",
       "    </tr>\n",
       "  </tbody>\n",
       "</table>\n",
       "</div>"
      ],
      "text/plain": [
       "   ChildBks  YouthBks  CookBks  DoItYBks  RefBks  ArtBks  GeogBks  ItalCook  \\\n",
       "0         0         1        0         1       0       0        1         0   \n",
       "1         1         0        0         0       0       0        0         0   \n",
       "2         0         0        0         0       0       0        0         0   \n",
       "3         1         1        1         0       1       0        1         0   \n",
       "4         0         0        1         0       0       0        1         0   \n",
       "\n",
       "   ItalAtlas  ItalArt  Florence  \n",
       "0          0        0         0  \n",
       "1          0        0         0  \n",
       "2          0        0         0  \n",
       "3          0        0         0  \n",
       "4          0        0         0  "
      ]
     },
     "execution_count": 4,
     "metadata": {},
     "output_type": "execute_result"
    }
   ],
   "source": [
    "df=pd.get_dummies(book)\n",
    "df.head()"
   ]
  },
  {
   "cell_type": "code",
   "execution_count": 28,
   "id": "0e008585",
   "metadata": {
    "ExecuteTime": {
     "end_time": "2021-11-30T17:32:56.054820Z",
     "start_time": "2021-11-30T17:32:56.030884Z"
    }
   },
   "outputs": [
    {
     "data": {
      "text/html": [
       "<div>\n",
       "<style scoped>\n",
       "    .dataframe tbody tr th:only-of-type {\n",
       "        vertical-align: middle;\n",
       "    }\n",
       "\n",
       "    .dataframe tbody tr th {\n",
       "        vertical-align: top;\n",
       "    }\n",
       "\n",
       "    .dataframe thead th {\n",
       "        text-align: right;\n",
       "    }\n",
       "</style>\n",
       "<table border=\"1\" class=\"dataframe\">\n",
       "  <thead>\n",
       "    <tr style=\"text-align: right;\">\n",
       "      <th></th>\n",
       "      <th>support</th>\n",
       "      <th>itemsets</th>\n",
       "      <th>length</th>\n",
       "    </tr>\n",
       "  </thead>\n",
       "  <tbody>\n",
       "    <tr>\n",
       "      <th>0</th>\n",
       "      <td>0.423</td>\n",
       "      <td>(ChildBks)</td>\n",
       "      <td>1</td>\n",
       "    </tr>\n",
       "    <tr>\n",
       "      <th>1</th>\n",
       "      <td>0.431</td>\n",
       "      <td>(CookBks)</td>\n",
       "      <td>1</td>\n",
       "    </tr>\n",
       "  </tbody>\n",
       "</table>\n",
       "</div>"
      ],
      "text/plain": [
       "   support    itemsets  length\n",
       "0    0.423  (ChildBks)       1\n",
       "1    0.431   (CookBks)       1"
      ]
     },
     "execution_count": 28,
     "metadata": {},
     "output_type": "execute_result"
    }
   ],
   "source": [
    "frequent_itemsets = apriori(df, min_support=0.3, use_colnames=True)\n",
    "frequent_itemsets['length'] = frequent_itemsets['itemsets'].apply(lambda x:len(x))\n",
    "frequent_itemsets"
   ]
  },
  {
   "cell_type": "code",
   "execution_count": 29,
   "id": "bd9dfb01",
   "metadata": {
    "ExecuteTime": {
     "end_time": "2021-11-30T17:33:08.010762Z",
     "start_time": "2021-11-30T17:33:07.996796Z"
    }
   },
   "outputs": [
    {
     "data": {
      "text/html": [
       "<div>\n",
       "<style scoped>\n",
       "    .dataframe tbody tr th:only-of-type {\n",
       "        vertical-align: middle;\n",
       "    }\n",
       "\n",
       "    .dataframe tbody tr th {\n",
       "        vertical-align: top;\n",
       "    }\n",
       "\n",
       "    .dataframe thead th {\n",
       "        text-align: right;\n",
       "    }\n",
       "</style>\n",
       "<table border=\"1\" class=\"dataframe\">\n",
       "  <thead>\n",
       "    <tr style=\"text-align: right;\">\n",
       "      <th></th>\n",
       "      <th>support</th>\n",
       "      <th>itemsets</th>\n",
       "      <th>length</th>\n",
       "    </tr>\n",
       "  </thead>\n",
       "  <tbody>\n",
       "    <tr>\n",
       "      <th>0</th>\n",
       "      <td>0.423</td>\n",
       "      <td>(ChildBks)</td>\n",
       "      <td>1</td>\n",
       "    </tr>\n",
       "    <tr>\n",
       "      <th>1</th>\n",
       "      <td>0.431</td>\n",
       "      <td>(CookBks)</td>\n",
       "      <td>1</td>\n",
       "    </tr>\n",
       "  </tbody>\n",
       "</table>\n",
       "</div>"
      ],
      "text/plain": [
       "   support    itemsets  length\n",
       "0    0.423  (ChildBks)       1\n",
       "1    0.431   (CookBks)       1"
      ]
     },
     "execution_count": 29,
     "metadata": {},
     "output_type": "execute_result"
    }
   ],
   "source": [
    "frequent_itemsets[ (frequent_itemsets['length'] == 1) & (frequent_itemsets['support'] <=0.8)]"
   ]
  },
  {
   "cell_type": "code",
   "execution_count": 30,
   "id": "46fa99b3",
   "metadata": {
    "ExecuteTime": {
     "end_time": "2021-11-30T17:33:14.797980Z",
     "start_time": "2021-11-30T17:33:14.778046Z"
    }
   },
   "outputs": [
    {
     "data": {
      "text/html": [
       "<div>\n",
       "<style scoped>\n",
       "    .dataframe tbody tr th:only-of-type {\n",
       "        vertical-align: middle;\n",
       "    }\n",
       "\n",
       "    .dataframe tbody tr th {\n",
       "        vertical-align: top;\n",
       "    }\n",
       "\n",
       "    .dataframe thead th {\n",
       "        text-align: right;\n",
       "    }\n",
       "</style>\n",
       "<table border=\"1\" class=\"dataframe\">\n",
       "  <thead>\n",
       "    <tr style=\"text-align: right;\">\n",
       "      <th></th>\n",
       "      <th>antecedents</th>\n",
       "      <th>consequents</th>\n",
       "      <th>antecedent support</th>\n",
       "      <th>consequent support</th>\n",
       "      <th>support</th>\n",
       "      <th>confidence</th>\n",
       "      <th>lift</th>\n",
       "      <th>leverage</th>\n",
       "      <th>conviction</th>\n",
       "    </tr>\n",
       "  </thead>\n",
       "  <tbody>\n",
       "  </tbody>\n",
       "</table>\n",
       "</div>"
      ],
      "text/plain": [
       "Empty DataFrame\n",
       "Columns: [antecedents, consequents, antecedent support, consequent support, support, confidence, lift, leverage, conviction]\n",
       "Index: []"
      ]
     },
     "execution_count": 30,
     "metadata": {},
     "output_type": "execute_result"
    }
   ],
   "source": [
    "rules = association_rules(frequent_itemsets, metric=\"lift\", min_threshold=0.7)\n",
    "rules\n",
    "rules.sort_values('lift',ascending = False).head()"
   ]
  },
  {
   "cell_type": "code",
   "execution_count": 31,
   "id": "0807ef49",
   "metadata": {
    "ExecuteTime": {
     "end_time": "2021-11-30T17:34:42.121446Z",
     "start_time": "2021-11-30T17:34:42.088469Z"
    }
   },
   "outputs": [
    {
     "data": {
      "text/html": [
       "<div>\n",
       "<style scoped>\n",
       "    .dataframe tbody tr th:only-of-type {\n",
       "        vertical-align: middle;\n",
       "    }\n",
       "\n",
       "    .dataframe tbody tr th {\n",
       "        vertical-align: top;\n",
       "    }\n",
       "\n",
       "    .dataframe thead th {\n",
       "        text-align: right;\n",
       "    }\n",
       "</style>\n",
       "<table border=\"1\" class=\"dataframe\">\n",
       "  <thead>\n",
       "    <tr style=\"text-align: right;\">\n",
       "      <th></th>\n",
       "      <th>support</th>\n",
       "      <th>itemsets</th>\n",
       "      <th>length</th>\n",
       "    </tr>\n",
       "  </thead>\n",
       "  <tbody>\n",
       "    <tr>\n",
       "      <th>0</th>\n",
       "      <td>0.4230</td>\n",
       "      <td>(ChildBks)</td>\n",
       "      <td>1</td>\n",
       "    </tr>\n",
       "    <tr>\n",
       "      <th>1</th>\n",
       "      <td>0.2475</td>\n",
       "      <td>(YouthBks)</td>\n",
       "      <td>1</td>\n",
       "    </tr>\n",
       "    <tr>\n",
       "      <th>2</th>\n",
       "      <td>0.4310</td>\n",
       "      <td>(CookBks)</td>\n",
       "      <td>1</td>\n",
       "    </tr>\n",
       "    <tr>\n",
       "      <th>3</th>\n",
       "      <td>0.2820</td>\n",
       "      <td>(DoItYBks)</td>\n",
       "      <td>1</td>\n",
       "    </tr>\n",
       "    <tr>\n",
       "      <th>4</th>\n",
       "      <td>0.2145</td>\n",
       "      <td>(RefBks)</td>\n",
       "      <td>1</td>\n",
       "    </tr>\n",
       "    <tr>\n",
       "      <th>5</th>\n",
       "      <td>0.2410</td>\n",
       "      <td>(ArtBks)</td>\n",
       "      <td>1</td>\n",
       "    </tr>\n",
       "    <tr>\n",
       "      <th>6</th>\n",
       "      <td>0.2760</td>\n",
       "      <td>(GeogBks)</td>\n",
       "      <td>1</td>\n",
       "    </tr>\n",
       "    <tr>\n",
       "      <th>7</th>\n",
       "      <td>0.2560</td>\n",
       "      <td>(CookBks, ChildBks)</td>\n",
       "      <td>2</td>\n",
       "    </tr>\n",
       "  </tbody>\n",
       "</table>\n",
       "</div>"
      ],
      "text/plain": [
       "   support             itemsets  length\n",
       "0   0.4230           (ChildBks)       1\n",
       "1   0.2475           (YouthBks)       1\n",
       "2   0.4310            (CookBks)       1\n",
       "3   0.2820           (DoItYBks)       1\n",
       "4   0.2145             (RefBks)       1\n",
       "5   0.2410             (ArtBks)       1\n",
       "6   0.2760            (GeogBks)       1\n",
       "7   0.2560  (CookBks, ChildBks)       2"
      ]
     },
     "execution_count": 31,
     "metadata": {},
     "output_type": "execute_result"
    }
   ],
   "source": [
    "frequent_itemsets = apriori(df, min_support=0.2, use_colnames=True)\n",
    "frequent_itemsets['length'] = frequent_itemsets['itemsets'].apply(lambda x:len(x))\n",
    "frequent_itemsets"
   ]
  },
  {
   "cell_type": "code",
   "execution_count": 33,
   "id": "33f824da",
   "metadata": {
    "ExecuteTime": {
     "end_time": "2021-11-30T17:35:10.368976Z",
     "start_time": "2021-11-30T17:35:10.355010Z"
    }
   },
   "outputs": [
    {
     "data": {
      "text/html": [
       "<div>\n",
       "<style scoped>\n",
       "    .dataframe tbody tr th:only-of-type {\n",
       "        vertical-align: middle;\n",
       "    }\n",
       "\n",
       "    .dataframe tbody tr th {\n",
       "        vertical-align: top;\n",
       "    }\n",
       "\n",
       "    .dataframe thead th {\n",
       "        text-align: right;\n",
       "    }\n",
       "</style>\n",
       "<table border=\"1\" class=\"dataframe\">\n",
       "  <thead>\n",
       "    <tr style=\"text-align: right;\">\n",
       "      <th></th>\n",
       "      <th>support</th>\n",
       "      <th>itemsets</th>\n",
       "      <th>length</th>\n",
       "    </tr>\n",
       "  </thead>\n",
       "  <tbody>\n",
       "    <tr>\n",
       "      <th>7</th>\n",
       "      <td>0.256</td>\n",
       "      <td>(CookBks, ChildBks)</td>\n",
       "      <td>2</td>\n",
       "    </tr>\n",
       "  </tbody>\n",
       "</table>\n",
       "</div>"
      ],
      "text/plain": [
       "   support             itemsets  length\n",
       "7    0.256  (CookBks, ChildBks)       2"
      ]
     },
     "execution_count": 33,
     "metadata": {},
     "output_type": "execute_result"
    }
   ],
   "source": [
    "frequent_itemsets[ (frequent_itemsets['length'] == 2) & (frequent_itemsets['support'] <=0.8)]"
   ]
  },
  {
   "cell_type": "code",
   "execution_count": 34,
   "id": "f55c2b40",
   "metadata": {
    "ExecuteTime": {
     "end_time": "2021-11-30T17:35:17.330838Z",
     "start_time": "2021-11-30T17:35:17.295927Z"
    }
   },
   "outputs": [
    {
     "data": {
      "text/html": [
       "<div>\n",
       "<style scoped>\n",
       "    .dataframe tbody tr th:only-of-type {\n",
       "        vertical-align: middle;\n",
       "    }\n",
       "\n",
       "    .dataframe tbody tr th {\n",
       "        vertical-align: top;\n",
       "    }\n",
       "\n",
       "    .dataframe thead th {\n",
       "        text-align: right;\n",
       "    }\n",
       "</style>\n",
       "<table border=\"1\" class=\"dataframe\">\n",
       "  <thead>\n",
       "    <tr style=\"text-align: right;\">\n",
       "      <th></th>\n",
       "      <th>antecedents</th>\n",
       "      <th>consequents</th>\n",
       "      <th>antecedent support</th>\n",
       "      <th>consequent support</th>\n",
       "      <th>support</th>\n",
       "      <th>confidence</th>\n",
       "      <th>lift</th>\n",
       "      <th>leverage</th>\n",
       "      <th>conviction</th>\n",
       "    </tr>\n",
       "  </thead>\n",
       "  <tbody>\n",
       "    <tr>\n",
       "      <th>0</th>\n",
       "      <td>(CookBks)</td>\n",
       "      <td>(ChildBks)</td>\n",
       "      <td>0.431</td>\n",
       "      <td>0.423</td>\n",
       "      <td>0.256</td>\n",
       "      <td>0.593968</td>\n",
       "      <td>1.404179</td>\n",
       "      <td>0.073687</td>\n",
       "      <td>1.421069</td>\n",
       "    </tr>\n",
       "    <tr>\n",
       "      <th>1</th>\n",
       "      <td>(ChildBks)</td>\n",
       "      <td>(CookBks)</td>\n",
       "      <td>0.423</td>\n",
       "      <td>0.431</td>\n",
       "      <td>0.256</td>\n",
       "      <td>0.605201</td>\n",
       "      <td>1.404179</td>\n",
       "      <td>0.073687</td>\n",
       "      <td>1.441240</td>\n",
       "    </tr>\n",
       "  </tbody>\n",
       "</table>\n",
       "</div>"
      ],
      "text/plain": [
       "  antecedents consequents  antecedent support  consequent support  support  \\\n",
       "0   (CookBks)  (ChildBks)               0.431               0.423    0.256   \n",
       "1  (ChildBks)   (CookBks)               0.423               0.431    0.256   \n",
       "\n",
       "   confidence      lift  leverage  conviction  \n",
       "0    0.593968  1.404179  0.073687    1.421069  \n",
       "1    0.605201  1.404179  0.073687    1.441240  "
      ]
     },
     "execution_count": 34,
     "metadata": {},
     "output_type": "execute_result"
    }
   ],
   "source": [
    "rules = association_rules(frequent_itemsets, metric=\"lift\", min_threshold=0.5)\n",
    "rules\n",
    "rules.sort_values('lift',ascending = False).head()"
   ]
  },
  {
   "cell_type": "code",
   "execution_count": 35,
   "id": "0eec0fd4",
   "metadata": {
    "ExecuteTime": {
     "end_time": "2021-11-30T17:35:29.455726Z",
     "start_time": "2021-11-30T17:35:29.436779Z"
    }
   },
   "outputs": [
    {
     "data": {
      "text/html": [
       "<div>\n",
       "<style scoped>\n",
       "    .dataframe tbody tr th:only-of-type {\n",
       "        vertical-align: middle;\n",
       "    }\n",
       "\n",
       "    .dataframe tbody tr th {\n",
       "        vertical-align: top;\n",
       "    }\n",
       "\n",
       "    .dataframe thead th {\n",
       "        text-align: right;\n",
       "    }\n",
       "</style>\n",
       "<table border=\"1\" class=\"dataframe\">\n",
       "  <thead>\n",
       "    <tr style=\"text-align: right;\">\n",
       "      <th></th>\n",
       "      <th>support</th>\n",
       "      <th>itemsets</th>\n",
       "      <th>length</th>\n",
       "    </tr>\n",
       "  </thead>\n",
       "  <tbody>\n",
       "  </tbody>\n",
       "</table>\n",
       "</div>"
      ],
      "text/plain": [
       "Empty DataFrame\n",
       "Columns: [support, itemsets, length]\n",
       "Index: []"
      ]
     },
     "execution_count": 35,
     "metadata": {},
     "output_type": "execute_result"
    }
   ],
   "source": [
    "frequent_itemsets = apriori(df, min_support=0.5, use_colnames=True)\n",
    "frequent_itemsets['length'] = frequent_itemsets['itemsets'].apply(lambda x:len(x))\n",
    "frequent_itemsets"
   ]
  },
  {
   "cell_type": "code",
   "execution_count": 36,
   "id": "a3bdede7",
   "metadata": {
    "ExecuteTime": {
     "end_time": "2021-11-30T17:35:36.227557Z",
     "start_time": "2021-11-30T17:35:36.196640Z"
    }
   },
   "outputs": [
    {
     "data": {
      "text/html": [
       "<div>\n",
       "<style scoped>\n",
       "    .dataframe tbody tr th:only-of-type {\n",
       "        vertical-align: middle;\n",
       "    }\n",
       "\n",
       "    .dataframe tbody tr th {\n",
       "        vertical-align: top;\n",
       "    }\n",
       "\n",
       "    .dataframe thead th {\n",
       "        text-align: right;\n",
       "    }\n",
       "</style>\n",
       "<table border=\"1\" class=\"dataframe\">\n",
       "  <thead>\n",
       "    <tr style=\"text-align: right;\">\n",
       "      <th></th>\n",
       "      <th>support</th>\n",
       "      <th>itemsets</th>\n",
       "      <th>length</th>\n",
       "    </tr>\n",
       "  </thead>\n",
       "  <tbody>\n",
       "  </tbody>\n",
       "</table>\n",
       "</div>"
      ],
      "text/plain": [
       "Empty DataFrame\n",
       "Columns: [support, itemsets, length]\n",
       "Index: []"
      ]
     },
     "execution_count": 36,
     "metadata": {},
     "output_type": "execute_result"
    }
   ],
   "source": [
    "frequent_itemsets[ (frequent_itemsets['length'] == 4) & (frequent_itemsets['support'] <=0.9)]"
   ]
  },
  {
   "cell_type": "code",
   "execution_count": 39,
   "id": "d7205ef7",
   "metadata": {
    "ExecuteTime": {
     "end_time": "2021-11-30T17:36:03.171857Z",
     "start_time": "2021-11-30T17:36:03.152905Z"
    }
   },
   "outputs": [
    {
     "ename": "ValueError",
     "evalue": "The input DataFrame `df` containing the frequent itemsets is empty.",
     "output_type": "error",
     "traceback": [
      "\u001b[1;31m---------------------------------------------------------------------------\u001b[0m",
      "\u001b[1;31mValueError\u001b[0m                                Traceback (most recent call last)",
      "\u001b[1;32mC:\\Users\\BHAVYA~1.N\\AppData\\Local\\Temp/ipykernel_50736/2784419409.py\u001b[0m in \u001b[0;36m<module>\u001b[1;34m\u001b[0m\n\u001b[1;32m----> 1\u001b[1;33m \u001b[0mrules\u001b[0m \u001b[1;33m=\u001b[0m \u001b[0massociation_rules\u001b[0m\u001b[1;33m(\u001b[0m\u001b[0mfrequent_itemsets\u001b[0m\u001b[1;33m,\u001b[0m \u001b[0mmetric\u001b[0m\u001b[1;33m=\u001b[0m\u001b[1;34m\"lift\"\u001b[0m\u001b[1;33m,\u001b[0m \u001b[0mmin_threshold\u001b[0m\u001b[1;33m=\u001b[0m\u001b[1;36m0.9\u001b[0m\u001b[1;33m)\u001b[0m\u001b[1;33m\u001b[0m\u001b[1;33m\u001b[0m\u001b[0m\n\u001b[0m\u001b[0;32m      2\u001b[0m \u001b[0mrules\u001b[0m\u001b[1;33m\u001b[0m\u001b[1;33m\u001b[0m\u001b[0m\n\u001b[0;32m      3\u001b[0m \u001b[0mrules\u001b[0m\u001b[1;33m.\u001b[0m\u001b[0msort_values\u001b[0m\u001b[1;33m(\u001b[0m\u001b[1;34m'lift'\u001b[0m\u001b[1;33m,\u001b[0m\u001b[0mascending\u001b[0m \u001b[1;33m=\u001b[0m \u001b[1;32mFalse\u001b[0m\u001b[1;33m)\u001b[0m\u001b[1;33m.\u001b[0m\u001b[0mhead\u001b[0m\u001b[1;33m(\u001b[0m\u001b[1;33m)\u001b[0m\u001b[1;33m\u001b[0m\u001b[1;33m\u001b[0m\u001b[0m\n",
      "\u001b[1;32m~\\anaconda3\\lib\\site-packages\\mlxtend\\frequent_patterns\\association_rules.py\u001b[0m in \u001b[0;36massociation_rules\u001b[1;34m(df, metric, min_threshold, support_only)\u001b[0m\n\u001b[0;32m     78\u001b[0m     \"\"\"\n\u001b[0;32m     79\u001b[0m     \u001b[1;32mif\u001b[0m \u001b[1;32mnot\u001b[0m \u001b[0mdf\u001b[0m\u001b[1;33m.\u001b[0m\u001b[0mshape\u001b[0m\u001b[1;33m[\u001b[0m\u001b[1;36m0\u001b[0m\u001b[1;33m]\u001b[0m\u001b[1;33m:\u001b[0m\u001b[1;33m\u001b[0m\u001b[1;33m\u001b[0m\u001b[0m\n\u001b[1;32m---> 80\u001b[1;33m         raise ValueError('The input DataFrame `df` containing '\n\u001b[0m\u001b[0;32m     81\u001b[0m                          'the frequent itemsets is empty.')\n\u001b[0;32m     82\u001b[0m \u001b[1;33m\u001b[0m\u001b[0m\n",
      "\u001b[1;31mValueError\u001b[0m: The input DataFrame `df` containing the frequent itemsets is empty."
     ]
    }
   ],
   "source": [
    "rules = association_rules(frequent_itemsets, metric=\"lift\", min_threshold=0.9)\n",
    "rules\n",
    "rules.sort_values('lift',ascending = False).head()"
   ]
  },
  {
   "cell_type": "code",
   "execution_count": 40,
   "id": "44e337a6",
   "metadata": {
    "ExecuteTime": {
     "end_time": "2021-11-30T17:36:17.482306Z",
     "start_time": "2021-11-30T17:36:17.455377Z"
    }
   },
   "outputs": [
    {
     "data": {
      "text/html": [
       "<div>\n",
       "<style scoped>\n",
       "    .dataframe tbody tr th:only-of-type {\n",
       "        vertical-align: middle;\n",
       "    }\n",
       "\n",
       "    .dataframe tbody tr th {\n",
       "        vertical-align: top;\n",
       "    }\n",
       "\n",
       "    .dataframe thead th {\n",
       "        text-align: right;\n",
       "    }\n",
       "</style>\n",
       "<table border=\"1\" class=\"dataframe\">\n",
       "  <thead>\n",
       "    <tr style=\"text-align: right;\">\n",
       "      <th></th>\n",
       "      <th>support</th>\n",
       "      <th>itemsets</th>\n",
       "      <th>length</th>\n",
       "    </tr>\n",
       "  </thead>\n",
       "  <tbody>\n",
       "    <tr>\n",
       "      <th>0</th>\n",
       "      <td>0.423</td>\n",
       "      <td>(ChildBks)</td>\n",
       "      <td>1</td>\n",
       "    </tr>\n",
       "    <tr>\n",
       "      <th>1</th>\n",
       "      <td>0.431</td>\n",
       "      <td>(CookBks)</td>\n",
       "      <td>1</td>\n",
       "    </tr>\n",
       "  </tbody>\n",
       "</table>\n",
       "</div>"
      ],
      "text/plain": [
       "   support    itemsets  length\n",
       "0    0.423  (ChildBks)       1\n",
       "1    0.431   (CookBks)       1"
      ]
     },
     "execution_count": 40,
     "metadata": {},
     "output_type": "execute_result"
    }
   ],
   "source": [
    "frequent_itemsets = apriori(df, min_support=0.4, use_colnames=True)\n",
    "frequent_itemsets['length'] = frequent_itemsets['itemsets'].apply(lambda x:len(x))\n",
    "frequent_itemsets"
   ]
  },
  {
   "cell_type": "code",
   "execution_count": 41,
   "id": "c6ea5969",
   "metadata": {
    "ExecuteTime": {
     "end_time": "2021-11-30T17:36:24.329539Z",
     "start_time": "2021-11-30T17:36:24.315559Z"
    }
   },
   "outputs": [
    {
     "data": {
      "text/html": [
       "<div>\n",
       "<style scoped>\n",
       "    .dataframe tbody tr th:only-of-type {\n",
       "        vertical-align: middle;\n",
       "    }\n",
       "\n",
       "    .dataframe tbody tr th {\n",
       "        vertical-align: top;\n",
       "    }\n",
       "\n",
       "    .dataframe thead th {\n",
       "        text-align: right;\n",
       "    }\n",
       "</style>\n",
       "<table border=\"1\" class=\"dataframe\">\n",
       "  <thead>\n",
       "    <tr style=\"text-align: right;\">\n",
       "      <th></th>\n",
       "      <th>support</th>\n",
       "      <th>itemsets</th>\n",
       "      <th>length</th>\n",
       "    </tr>\n",
       "  </thead>\n",
       "  <tbody>\n",
       "  </tbody>\n",
       "</table>\n",
       "</div>"
      ],
      "text/plain": [
       "Empty DataFrame\n",
       "Columns: [support, itemsets, length]\n",
       "Index: []"
      ]
     },
     "execution_count": 41,
     "metadata": {},
     "output_type": "execute_result"
    }
   ],
   "source": [
    "frequent_itemsets[ (frequent_itemsets['length'] == 5) & (frequent_itemsets['support'] <=0.5)]"
   ]
  },
  {
   "cell_type": "code",
   "execution_count": 42,
   "id": "9c2f1521",
   "metadata": {
    "ExecuteTime": {
     "end_time": "2021-11-30T17:36:26.719335Z",
     "start_time": "2021-11-30T17:36:26.696401Z"
    }
   },
   "outputs": [
    {
     "data": {
      "text/html": [
       "<div>\n",
       "<style scoped>\n",
       "    .dataframe tbody tr th:only-of-type {\n",
       "        vertical-align: middle;\n",
       "    }\n",
       "\n",
       "    .dataframe tbody tr th {\n",
       "        vertical-align: top;\n",
       "    }\n",
       "\n",
       "    .dataframe thead th {\n",
       "        text-align: right;\n",
       "    }\n",
       "</style>\n",
       "<table border=\"1\" class=\"dataframe\">\n",
       "  <thead>\n",
       "    <tr style=\"text-align: right;\">\n",
       "      <th></th>\n",
       "      <th>antecedents</th>\n",
       "      <th>consequents</th>\n",
       "      <th>antecedent support</th>\n",
       "      <th>consequent support</th>\n",
       "      <th>support</th>\n",
       "      <th>confidence</th>\n",
       "      <th>lift</th>\n",
       "      <th>leverage</th>\n",
       "      <th>conviction</th>\n",
       "    </tr>\n",
       "  </thead>\n",
       "  <tbody>\n",
       "  </tbody>\n",
       "</table>\n",
       "</div>"
      ],
      "text/plain": [
       "Empty DataFrame\n",
       "Columns: [antecedents, consequents, antecedent support, consequent support, support, confidence, lift, leverage, conviction]\n",
       "Index: []"
      ]
     },
     "execution_count": 42,
     "metadata": {},
     "output_type": "execute_result"
    }
   ],
   "source": [
    "rules = association_rules(frequent_itemsets, metric=\"lift\", min_threshold=7)\n",
    "rules\n",
    "rules.sort_values('lift',ascending = False).head()"
   ]
  },
  {
   "cell_type": "code",
   "execution_count": 43,
   "id": "5e87bcf6",
   "metadata": {
    "ExecuteTime": {
     "end_time": "2021-11-30T17:37:28.317761Z",
     "start_time": "2021-11-30T17:37:27.039103Z"
    }
   },
   "outputs": [
    {
     "data": {
      "text/plain": [
       "<AxesSubplot:>"
      ]
     },
     "execution_count": 43,
     "metadata": {},
     "output_type": "execute_result"
    },
    {
     "data": {
      "image/png": "[encoded data removed]",
      "text/plain": [
       "<Figure size 432x288 with 1 Axes>"
      ]
     },
     "metadata": {
      "needs_background": "light"
     },
     "output_type": "display_data"
    }
   ],
   "source": [
    "import matplotlib.pyplot as plt\n",
    "import seaborn as sns\n",
    "book.boxplot(column=['ChildBks'])"
   ]
  },
  {
   "cell_type": "code",
   "execution_count": 44,
   "id": "c18dad57",
   "metadata": {
    "ExecuteTime": {
     "end_time": "2021-11-30T17:37:46.597725Z",
     "start_time": "2021-11-30T17:37:46.445245Z"
    }
   },
   "outputs": [
    {
     "data": {
      "text/plain": [
       "<AxesSubplot:>"
      ]
     },
     "execution_count": 44,
     "metadata": {},
     "output_type": "execute_result"
    },
    {
     "data": {
      "image/png": "[encoded data removed]",
      "text/plain": [
       "<Figure size 432x288 with 1 Axes>"
      ]
     },
     "metadata": {
      "needs_background": "light"
     },
     "output_type": "display_data"
    }
   ],
   "source": [
    "book.boxplot(column=['YouthBks'])"
   ]
  },
  {
   "cell_type": "code",
   "execution_count": 45,
   "id": "6f611a4d",
   "metadata": {
    "ExecuteTime": {
     "end_time": "2021-11-30T17:38:08.182382Z",
     "start_time": "2021-11-30T17:38:07.903673Z"
    }
   },
   "outputs": [
    {
     "data": {
      "text/plain": [
       "<AxesSubplot:>"
      ]
     },
     "execution_count": 45,
     "metadata": {},
     "output_type": "execute_result"
    },
    {
     "data": {
      "image/png": "[encoded data removed]",
      "text/plain": [
       "<Figure size 432x288 with 1 Axes>"
      ]
     },
     "metadata": {
      "needs_background": "light"
     },
     "output_type": "display_data"
    }
   ],
   "source": [
    "book['RefBks'].hist()"
   ]
  },
  {
   "cell_type": "code",
   "execution_count": 48,
   "id": "b8f0fb78",
   "metadata": {
    "ExecuteTime": {
     "end_time": "2021-11-30T17:39:33.144309Z",
     "start_time": "2021-11-30T17:39:32.937006Z"
    }
   },
   "outputs": [
    {
     "data": {
      "text/plain": [
       "<AxesSubplot:>"
      ]
     },
     "execution_count": 48,
     "metadata": {},
     "output_type": "execute_result"
    },
    {
     "data": {
      "image/png": "[encoded data removed]",
      "text/plain": [
       "<Figure size 432x288 with 1 Axes>"
      ]
     },
     "metadata": {
      "needs_background": "light"
     },
     "output_type": "display_data"
    }
   ],
   "source": [
    "book['ItalAtlas'].hist()"
   ]
  },
  {
   "cell_type": "code",
   "execution_count": 49,
   "id": "2c2e3b54",
   "metadata": {
    "ExecuteTime": {
     "end_time": "2021-11-30T17:39:50.380230Z",
     "start_time": "2021-11-30T17:39:50.176619Z"
    }
   },
   "outputs": [
    {
     "data": {
      "text/plain": [
       "<AxesSubplot:>"
      ]
     },
     "execution_count": 49,
     "metadata": {},
     "output_type": "execute_result"
    },
    {
     "data": {
      "image/png": "[encoded data removed]",
      "text/plain": [
       "<Figure size 432x288 with 1 Axes>"
      ]
     },
     "metadata": {
      "needs_background": "light"
     },
     "output_type": "display_data"
    }
   ],
   "source": [
    "book['Florence'].hist()"
   ]
  },
  {
   "cell_type": "code",
   "execution_count": 50,
   "id": "38d0c153",
   "metadata": {
    "ExecuteTime": {
     "end_time": "2021-11-30T17:40:23.870476Z",
     "start_time": "2021-11-30T17:40:23.673232Z"
    }
   },
   "outputs": [
    {
     "data": {
      "text/plain": [
       "(array([1926.,    0.,    0.,    0.,    0.,    0.,    0.,    0.,    0.,\n",
       "          74.]),\n",
       " array([0. , 0.1, 0.2, 0.3, 0.4, 0.5, 0.6, 0.7, 0.8, 0.9, 1. ]),\n",
       " <BarContainer object of 10 artists>)"
      ]
     },
     "execution_count": 50,
     "metadata": {},
     "output_type": "execute_result"
    },
    {
     "data": {
      "image/png": "[encoded data removed]",
      "text/plain": [
       "<Figure size 432x288 with 1 Axes>"
      ]
     },
     "metadata": {
      "needs_background": "light"
     },
     "output_type": "display_data"
    }
   ],
   "source": [
    "plt.hist(book[\"ItalAtlas\"])"
   ]
  },
  {
   "cell_type": "code",
   "execution_count": 51,
   "id": "5513cace",
   "metadata": {
    "ExecuteTime": {
     "end_time": "2021-11-30T17:40:45.281796Z",
     "start_time": "2021-11-30T17:40:45.145160Z"
    }
   },
   "outputs": [
    {
     "data": {
      "text/plain": [
       "{'whiskers': [<matplotlib.lines.Line2D at 0x2be72d4fc70>,\n",
       "  <matplotlib.lines.Line2D at 0x2be72d5e040>],\n",
       " 'caps': [<matplotlib.lines.Line2D at 0x2be72d5e3d0>,\n",
       "  <matplotlib.lines.Line2D at 0x2be72d5e760>],\n",
       " 'boxes': [<matplotlib.lines.Line2D at 0x2be72d4f8e0>],\n",
       " 'medians': [<matplotlib.lines.Line2D at 0x2be72d5eaf0>],\n",
       " 'fliers': [<matplotlib.lines.Line2D at 0x2be72d5ee80>],\n",
       " 'means': []}"
      ]
     },
     "execution_count": 51,
     "metadata": {},
     "output_type": "execute_result"
    },
    {
     "data": {
      "image/png": "[encoded data removed]",
      "text/plain": [
       "<Figure size 432x288 with 1 Axes>"
      ]
     },
     "metadata": {
      "needs_background": "light"
     },
     "output_type": "display_data"
    }
   ],
   "source": [
    "plt.boxplot(book[\"GeogBks\"],'bo')"
   ]
  },
  {
   "cell_type": "code",
   "execution_count": 52,
   "id": "23edf9ff",
   "metadata": {
    "ExecuteTime": {
     "end_time": "2021-11-30T17:41:04.172474Z",
     "start_time": "2021-11-30T17:41:04.010633Z"
    }
   },
   "outputs": [
    {
     "data": {
      "text/plain": [
       "{'whiskers': [<matplotlib.lines.Line2D at 0x2be72dbe790>,\n",
       "  <matplotlib.lines.Line2D at 0x2be72dbeb20>],\n",
       " 'caps': [<matplotlib.lines.Line2D at 0x2be72dbeeb0>,\n",
       "  <matplotlib.lines.Line2D at 0x2be72dcd220>],\n",
       " 'boxes': [<matplotlib.lines.Line2D at 0x2be72dbe400>],\n",
       " 'medians': [<matplotlib.lines.Line2D at 0x2be72dcd5b0>],\n",
       " 'fliers': [<matplotlib.lines.Line2D at 0x2be72dcd940>],\n",
       " 'means': []}"
      ]
     },
     "execution_count": 52,
     "metadata": {},
     "output_type": "execute_result"
    },
    {
     "data": {
      "image/png": "[encoded data removed]",
      "text/plain": [
       "<Figure size 432x288 with 1 Axes>"
      ]
     },
     "metadata": {
      "needs_background": "light"
     },
     "output_type": "display_data"
    }
   ],
   "source": [
    "plt.boxplot(book[\"ItalCook\"],'bo')"
   ]
  },
  {
   "cell_type": "code",
   "execution_count": 53,
   "id": "83e67b60",
   "metadata": {
    "ExecuteTime": {
     "end_time": "2021-11-30T17:41:53.932962Z",
     "start_time": "2021-11-30T17:41:53.616429Z"
    }
   },
   "outputs": [
    {
     "data": {
      "text/plain": [
       "{'whiskers': [<matplotlib.lines.Line2D at 0x2be72e0bdf0>,\n",
       "  <matplotlib.lines.Line2D at 0x2be72e161c0>],\n",
       " 'caps': [<matplotlib.lines.Line2D at 0x2be72e16550>,\n",
       "  <matplotlib.lines.Line2D at 0x2be72e168e0>],\n",
       " 'boxes': [<matplotlib.lines.Line2D at 0x2be72e0ba60>],\n",
       " 'medians': [<matplotlib.lines.Line2D at 0x2be72e16c70>],\n",
       " 'fliers': [<matplotlib.lines.Line2D at 0x2be72e21040>],\n",
       " 'means': []}"
      ]
     },
     "execution_count": 53,
     "metadata": {},
     "output_type": "execute_result"
    },
    {
     "data": {
      "image/png": "[encoded data removed]",
      "text/plain": [
       "<Figure size 432x288 with 1 Axes>"
      ]
     },
     "metadata": {
      "needs_background": "light"
     },
     "output_type": "display_data"
    }
   ],
   "source": [
    "plt.boxplot(book[\"ChildBks\"],'bo')"
   ]
  }
 ],
 "metadata": {
  "kernelspec": {
   "display_name": "Python 3 (ipykernel)",
   "language": "python",
   "name": "python3"
  },
  "language_info": {
   "codemirror_mode": {
    "name": "ipython",
    "version": 3
   },
   "file_extension": ".py",
   "mimetype": "text/x-python",
   "name": "python",
   "nbconvert_exporter": "python",
   "pygments_lexer": "ipython3",
   "version": "3.9.7"
  }
 },
 "nbformat": 4,
 "nbformat_minor": 5
}
